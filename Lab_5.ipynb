{
 "cells": [
  {
   "cell_type": "code",
   "execution_count": 11,
   "id": "cde58275",
   "metadata": {},
   "outputs": [],
   "source": [
    "import pandas as pd\n",
    "import matplotlib.pyplot as plt\n",
    "import numpy as np\n",
    "import seaborn as sns \n",
    "%matplotlib inline "
   ]
  },
  {
   "cell_type": "code",
   "execution_count": 57,
   "id": "1b592c2d",
   "metadata": {},
   "outputs": [
    {
     "name": "stdout",
     "output_type": "stream",
     "text": [
      "Requirement already satisfied: imblearn in c:\\users\\court\\downloads\\python\\lib\\site-packages (0.0)\n",
      "Requirement already satisfied: imbalanced-learn in c:\\users\\court\\downloads\\python\\lib\\site-packages (from imblearn) (0.10.1)\n",
      "Requirement already satisfied: threadpoolctl>=2.0.0 in c:\\users\\court\\downloads\\python\\lib\\site-packages (from imbalanced-learn->imblearn) (2.2.0)\n",
      "Requirement already satisfied: numpy>=1.17.3 in c:\\users\\court\\downloads\\python\\lib\\site-packages (from imbalanced-learn->imblearn) (1.21.5)\n",
      "Requirement already satisfied: scipy>=1.3.2 in c:\\users\\court\\downloads\\python\\lib\\site-packages (from imbalanced-learn->imblearn) (1.9.1)\n",
      "Requirement already satisfied: scikit-learn>=1.0.2 in c:\\users\\court\\downloads\\python\\lib\\site-packages (from imbalanced-learn->imblearn) (1.0.2)\n",
      "Requirement already satisfied: joblib>=1.1.1 in c:\\users\\court\\downloads\\python\\lib\\site-packages (from imbalanced-learn->imblearn) (1.2.0)\n"
     ]
    }
   ],
   "source": [
    "!pip3 install imblearn"
   ]
  },
  {
   "cell_type": "code",
   "execution_count": 4,
   "id": "c8d8288e",
   "metadata": {},
   "outputs": [],
   "source": [
    "df = pd.read_csv(\"genes_test.csv\")\n",
    "df2 = pd.read_csv(\"genes_train.csv\")"
   ]
  },
  {
   "cell_type": "code",
   "execution_count": 23,
   "id": "bc314034",
   "metadata": {},
   "outputs": [
    {
     "data": {
      "text/html": [
       "<div>\n",
       "<style scoped>\n",
       "    .dataframe tbody tr th:only-of-type {\n",
       "        vertical-align: middle;\n",
       "    }\n",
       "\n",
       "    .dataframe tbody tr th {\n",
       "        vertical-align: top;\n",
       "    }\n",
       "\n",
       "    .dataframe thead th {\n",
       "        text-align: right;\n",
       "    }\n",
       "</style>\n",
       "<table border=\"1\" class=\"dataframe\">\n",
       "  <thead>\n",
       "    <tr style=\"text-align: right;\">\n",
       "      <th></th>\n",
       "      <th>AFFX-BioB-5_at (endogenous control)</th>\n",
       "      <th>AFFX-BioB-M_at (endogenous control)</th>\n",
       "      <th>AFFX-BioB-3_at (endogenous control)</th>\n",
       "      <th>AFFX-BioC-5_at (endogenous control)</th>\n",
       "      <th>AFFX-BioC-3_at (endogenous control)</th>\n",
       "      <th>AFFX-BioDn-5_at (endogenous control)</th>\n",
       "      <th>AFFX-BioDn-3_at (endogenous control)</th>\n",
       "      <th>AFFX-CreX-5_at (endogenous control)</th>\n",
       "      <th>AFFX-CreX-3_at (endogenous control)</th>\n",
       "      <th>AFFX-BioB-5_st (endogenous control)</th>\n",
       "      <th>...</th>\n",
       "      <th>GB DEF = Calcium/calmodulin-dependent protein kinase II delta E mRNA; partial cds</th>\n",
       "      <th>TUBULIN ALPHA-4 CHAIN</th>\n",
       "      <th>CYP4B1 Cytochrome P450; subfamily IVB; polypeptide 1</th>\n",
       "      <th>PTGER3 Prostaglandin E receptor 3 (subtype EP3) {alternative products}.2</th>\n",
       "      <th>HMG2 High-mobility group (nonhistone chromosomal) protein 2.1</th>\n",
       "      <th>RB1 Retinoblastoma 1 (including osteosarcoma).1</th>\n",
       "      <th>GB DEF = Glycophorin Sta (type A) exons 3 and 4; partial</th>\n",
       "      <th>GB DEF = mRNA (clone 1A7)</th>\n",
       "      <th>patient</th>\n",
       "      <th>cancer type</th>\n",
       "    </tr>\n",
       "  </thead>\n",
       "  <tbody>\n",
       "    <tr>\n",
       "      <th>0</th>\n",
       "      <td>-62</td>\n",
       "      <td>-23</td>\n",
       "      <td>-7</td>\n",
       "      <td>142</td>\n",
       "      <td>-233</td>\n",
       "      <td>-284</td>\n",
       "      <td>-167</td>\n",
       "      <td>-97</td>\n",
       "      <td>-12</td>\n",
       "      <td>-70</td>\n",
       "      <td>...</td>\n",
       "      <td>46</td>\n",
       "      <td>104</td>\n",
       "      <td>15</td>\n",
       "      <td>245</td>\n",
       "      <td>164</td>\n",
       "      <td>84</td>\n",
       "      <td>100</td>\n",
       "      <td>-18</td>\n",
       "      <td>41</td>\n",
       "      <td>ALL</td>\n",
       "    </tr>\n",
       "    <tr>\n",
       "      <th>1</th>\n",
       "      <td>22</td>\n",
       "      <td>-153</td>\n",
       "      <td>17</td>\n",
       "      <td>276</td>\n",
       "      <td>-211</td>\n",
       "      <td>-250</td>\n",
       "      <td>55</td>\n",
       "      <td>-141</td>\n",
       "      <td>0</td>\n",
       "      <td>500</td>\n",
       "      <td>...</td>\n",
       "      <td>16</td>\n",
       "      <td>558</td>\n",
       "      <td>24</td>\n",
       "      <td>893</td>\n",
       "      <td>297</td>\n",
       "      <td>6</td>\n",
       "      <td>1971</td>\n",
       "      <td>-42</td>\n",
       "      <td>42</td>\n",
       "      <td>ALL</td>\n",
       "    </tr>\n",
       "    <tr>\n",
       "      <th>2</th>\n",
       "      <td>86</td>\n",
       "      <td>-36</td>\n",
       "      <td>-141</td>\n",
       "      <td>252</td>\n",
       "      <td>-201</td>\n",
       "      <td>-384</td>\n",
       "      <td>-420</td>\n",
       "      <td>-197</td>\n",
       "      <td>-60</td>\n",
       "      <td>-468</td>\n",
       "      <td>...</td>\n",
       "      <td>-84</td>\n",
       "      <td>615</td>\n",
       "      <td>-52</td>\n",
       "      <td>1235</td>\n",
       "      <td>9</td>\n",
       "      <td>7</td>\n",
       "      <td>1545</td>\n",
       "      <td>-81</td>\n",
       "      <td>43</td>\n",
       "      <td>ALL</td>\n",
       "    </tr>\n",
       "    <tr>\n",
       "      <th>3</th>\n",
       "      <td>-146</td>\n",
       "      <td>-74</td>\n",
       "      <td>170</td>\n",
       "      <td>174</td>\n",
       "      <td>-32</td>\n",
       "      <td>-318</td>\n",
       "      <td>8</td>\n",
       "      <td>-152</td>\n",
       "      <td>-148</td>\n",
       "      <td>17</td>\n",
       "      <td>...</td>\n",
       "      <td>-142</td>\n",
       "      <td>249</td>\n",
       "      <td>-220</td>\n",
       "      <td>354</td>\n",
       "      <td>-42</td>\n",
       "      <td>-100</td>\n",
       "      <td>45</td>\n",
       "      <td>-108</td>\n",
       "      <td>44</td>\n",
       "      <td>ALL</td>\n",
       "    </tr>\n",
       "    <tr>\n",
       "      <th>4</th>\n",
       "      <td>-187</td>\n",
       "      <td>-187</td>\n",
       "      <td>312</td>\n",
       "      <td>142</td>\n",
       "      <td>114</td>\n",
       "      <td>-148</td>\n",
       "      <td>-184</td>\n",
       "      <td>-133</td>\n",
       "      <td>12</td>\n",
       "      <td>97</td>\n",
       "      <td>...</td>\n",
       "      <td>-185</td>\n",
       "      <td>13</td>\n",
       "      <td>-148</td>\n",
       "      <td>304</td>\n",
       "      <td>-1</td>\n",
       "      <td>-207</td>\n",
       "      <td>112</td>\n",
       "      <td>-190</td>\n",
       "      <td>45</td>\n",
       "      <td>ALL</td>\n",
       "    </tr>\n",
       "  </tbody>\n",
       "</table>\n",
       "<p>5 rows × 7131 columns</p>\n",
       "</div>"
      ],
      "text/plain": [
       "   AFFX-BioB-5_at (endogenous control)  AFFX-BioB-M_at (endogenous control)  \\\n",
       "0                                  -62                                  -23   \n",
       "1                                   22                                 -153   \n",
       "2                                   86                                  -36   \n",
       "3                                 -146                                  -74   \n",
       "4                                 -187                                 -187   \n",
       "\n",
       "   AFFX-BioB-3_at (endogenous control)  AFFX-BioC-5_at (endogenous control)  \\\n",
       "0                                   -7                                  142   \n",
       "1                                   17                                  276   \n",
       "2                                 -141                                  252   \n",
       "3                                  170                                  174   \n",
       "4                                  312                                  142   \n",
       "\n",
       "   AFFX-BioC-3_at (endogenous control)  AFFX-BioDn-5_at (endogenous control)  \\\n",
       "0                                 -233                                  -284   \n",
       "1                                 -211                                  -250   \n",
       "2                                 -201                                  -384   \n",
       "3                                  -32                                  -318   \n",
       "4                                  114                                  -148   \n",
       "\n",
       "   AFFX-BioDn-3_at (endogenous control)  AFFX-CreX-5_at (endogenous control)  \\\n",
       "0                                  -167                                  -97   \n",
       "1                                    55                                 -141   \n",
       "2                                  -420                                 -197   \n",
       "3                                     8                                 -152   \n",
       "4                                  -184                                 -133   \n",
       "\n",
       "   AFFX-CreX-3_at (endogenous control)  AFFX-BioB-5_st (endogenous control)  \\\n",
       "0                                  -12                                  -70   \n",
       "1                                    0                                  500   \n",
       "2                                  -60                                 -468   \n",
       "3                                 -148                                   17   \n",
       "4                                   12                                   97   \n",
       "\n",
       "   ...  \\\n",
       "0  ...   \n",
       "1  ...   \n",
       "2  ...   \n",
       "3  ...   \n",
       "4  ...   \n",
       "\n",
       "   GB DEF = Calcium/calmodulin-dependent protein kinase II delta E mRNA; partial cds  \\\n",
       "0                                                 46                                   \n",
       "1                                                 16                                   \n",
       "2                                                -84                                   \n",
       "3                                               -142                                   \n",
       "4                                               -185                                   \n",
       "\n",
       "   TUBULIN ALPHA-4 CHAIN  \\\n",
       "0                    104   \n",
       "1                    558   \n",
       "2                    615   \n",
       "3                    249   \n",
       "4                     13   \n",
       "\n",
       "   CYP4B1 Cytochrome P450; subfamily IVB; polypeptide 1  \\\n",
       "0                                                 15      \n",
       "1                                                 24      \n",
       "2                                                -52      \n",
       "3                                               -220      \n",
       "4                                               -148      \n",
       "\n",
       "   PTGER3 Prostaglandin E receptor 3 (subtype EP3) {alternative products}.2  \\\n",
       "0                                                245                          \n",
       "1                                                893                          \n",
       "2                                               1235                          \n",
       "3                                                354                          \n",
       "4                                                304                          \n",
       "\n",
       "   HMG2 High-mobility group (nonhistone chromosomal) protein 2.1  \\\n",
       "0                                                164               \n",
       "1                                                297               \n",
       "2                                                  9               \n",
       "3                                                -42               \n",
       "4                                                 -1               \n",
       "\n",
       "   RB1 Retinoblastoma 1 (including osteosarcoma).1  \\\n",
       "0                                               84   \n",
       "1                                                6   \n",
       "2                                                7   \n",
       "3                                             -100   \n",
       "4                                             -207   \n",
       "\n",
       "   GB DEF = Glycophorin Sta (type A) exons 3 and 4; partial  \\\n",
       "0                                                100          \n",
       "1                                               1971          \n",
       "2                                               1545          \n",
       "3                                                 45          \n",
       "4                                                112          \n",
       "\n",
       "   GB DEF = mRNA (clone 1A7)  patient  cancer type  \n",
       "0                        -18       41          ALL  \n",
       "1                        -42       42          ALL  \n",
       "2                        -81       43          ALL  \n",
       "3                       -108       44          ALL  \n",
       "4                       -190       45          ALL  \n",
       "\n",
       "[5 rows x 7131 columns]"
      ]
     },
     "execution_count": 23,
     "metadata": {},
     "output_type": "execute_result"
    }
   ],
   "source": [
    "df.head()"
   ]
  },
  {
   "cell_type": "code",
   "execution_count": 12,
   "id": "68726acf",
   "metadata": {},
   "outputs": [
    {
     "data": {
      "text/plain": [
       "(40, 7131)"
      ]
     },
     "execution_count": 12,
     "metadata": {},
     "output_type": "execute_result"
    }
   ],
   "source": [
    "df2.shape"
   ]
  },
  {
   "cell_type": "code",
   "execution_count": 19,
   "id": "9cb51ab2",
   "metadata": {},
   "outputs": [
    {
     "data": {
      "text/plain": [
       "(array([21., 15.,  2.,  0.,  0.,  0.,  0.,  1.,  0.,  1.]),\n",
       " array([  36. ,  285.1,  534.2,  783.3, 1032.4, 1281.5, 1530.6, 1779.7,\n",
       "        2028.8, 2277.9, 2527. ]),\n",
       " <BarContainer object of 10 artists>)"
      ]
     },
     "execution_count": 19,
     "metadata": {},
     "output_type": "execute_result"
    },
    {
     "data": {
      "image/png": "[encoded data removed]",
      "text/plain": [
       "<Figure size 640x480 with 1 Axes>"
      ]
     },
     "metadata": {},
     "output_type": "display_data"
    }
   ],
   "source": [
    "plt.hist(df2[\"TUBULIN ALPHA-4 CHAIN\"])"
   ]
  },
  {
   "cell_type": "code",
   "execution_count": null,
   "id": "548e287d",
   "metadata": {},
   "outputs": [],
   "source": [
    "# The shape of the training data is (40,7131). This means that in the study, 40 paitents participated and they were able to collect 7,131 featuers from them. \n",
    "# Looking at a random feature from the data set, you can see that the data isn't really balanced. There is more data heavly skewed to the right, then from the left. \n",
    "# Also, the same thing is true for the cancer type histogram, therefore you can infer that the training data is a unbalanced. "
   ]
  },
  {
   "cell_type": "code",
   "execution_count": 13,
   "id": "5305360f",
   "metadata": {},
   "outputs": [
    {
     "data": {
      "text/html": [
       "<div>\n",
       "<style scoped>\n",
       "    .dataframe tbody tr th:only-of-type {\n",
       "        vertical-align: middle;\n",
       "    }\n",
       "\n",
       "    .dataframe tbody tr th {\n",
       "        vertical-align: top;\n",
       "    }\n",
       "\n",
       "    .dataframe thead th {\n",
       "        text-align: right;\n",
       "    }\n",
       "</style>\n",
       "<table border=\"1\" class=\"dataframe\">\n",
       "  <thead>\n",
       "    <tr style=\"text-align: right;\">\n",
       "      <th></th>\n",
       "      <th>AFFX-BioB-5_at (endogenous control)</th>\n",
       "      <th>AFFX-BioB-M_at (endogenous control)</th>\n",
       "      <th>AFFX-BioB-3_at (endogenous control)</th>\n",
       "      <th>AFFX-BioC-5_at (endogenous control)</th>\n",
       "      <th>AFFX-BioC-3_at (endogenous control)</th>\n",
       "      <th>AFFX-BioDn-5_at (endogenous control)</th>\n",
       "      <th>AFFX-BioDn-3_at (endogenous control)</th>\n",
       "      <th>AFFX-CreX-5_at (endogenous control)</th>\n",
       "      <th>AFFX-CreX-3_at (endogenous control)</th>\n",
       "      <th>AFFX-BioB-5_st (endogenous control)</th>\n",
       "      <th>...</th>\n",
       "      <th>GB DEF = Calcium/calmodulin-dependent protein kinase II delta E mRNA; partial cds</th>\n",
       "      <th>TUBULIN ALPHA-4 CHAIN</th>\n",
       "      <th>CYP4B1 Cytochrome P450; subfamily IVB; polypeptide 1</th>\n",
       "      <th>PTGER3 Prostaglandin E receptor 3 (subtype EP3) {alternative products}.2</th>\n",
       "      <th>HMG2 High-mobility group (nonhistone chromosomal) protein 2.1</th>\n",
       "      <th>RB1 Retinoblastoma 1 (including osteosarcoma).1</th>\n",
       "      <th>GB DEF = Glycophorin Sta (type A) exons 3 and 4; partial</th>\n",
       "      <th>GB DEF = mRNA (clone 1A7)</th>\n",
       "      <th>patient</th>\n",
       "      <th>cancer type</th>\n",
       "    </tr>\n",
       "  </thead>\n",
       "  <tbody>\n",
       "    <tr>\n",
       "      <th>0</th>\n",
       "      <td>-214</td>\n",
       "      <td>-153</td>\n",
       "      <td>-58</td>\n",
       "      <td>88</td>\n",
       "      <td>-295</td>\n",
       "      <td>-558</td>\n",
       "      <td>199</td>\n",
       "      <td>-176</td>\n",
       "      <td>252</td>\n",
       "      <td>206</td>\n",
       "      <td>...</td>\n",
       "      <td>-125</td>\n",
       "      <td>389</td>\n",
       "      <td>-37</td>\n",
       "      <td>793</td>\n",
       "      <td>329</td>\n",
       "      <td>36</td>\n",
       "      <td>191</td>\n",
       "      <td>-37</td>\n",
       "      <td>1</td>\n",
       "      <td>ALL</td>\n",
       "    </tr>\n",
       "    <tr>\n",
       "      <th>1</th>\n",
       "      <td>-139</td>\n",
       "      <td>-73</td>\n",
       "      <td>-1</td>\n",
       "      <td>283</td>\n",
       "      <td>-264</td>\n",
       "      <td>-400</td>\n",
       "      <td>-330</td>\n",
       "      <td>-168</td>\n",
       "      <td>101</td>\n",
       "      <td>74</td>\n",
       "      <td>...</td>\n",
       "      <td>-36</td>\n",
       "      <td>442</td>\n",
       "      <td>-17</td>\n",
       "      <td>782</td>\n",
       "      <td>295</td>\n",
       "      <td>11</td>\n",
       "      <td>76</td>\n",
       "      <td>-14</td>\n",
       "      <td>2</td>\n",
       "      <td>ALL</td>\n",
       "    </tr>\n",
       "    <tr>\n",
       "      <th>2</th>\n",
       "      <td>-76</td>\n",
       "      <td>-49</td>\n",
       "      <td>-307</td>\n",
       "      <td>309</td>\n",
       "      <td>-376</td>\n",
       "      <td>-650</td>\n",
       "      <td>33</td>\n",
       "      <td>-367</td>\n",
       "      <td>206</td>\n",
       "      <td>-215</td>\n",
       "      <td>...</td>\n",
       "      <td>33</td>\n",
       "      <td>168</td>\n",
       "      <td>52</td>\n",
       "      <td>1138</td>\n",
       "      <td>777</td>\n",
       "      <td>41</td>\n",
       "      <td>228</td>\n",
       "      <td>-41</td>\n",
       "      <td>3</td>\n",
       "      <td>ALL</td>\n",
       "    </tr>\n",
       "    <tr>\n",
       "      <th>3</th>\n",
       "      <td>-135</td>\n",
       "      <td>-114</td>\n",
       "      <td>265</td>\n",
       "      <td>12</td>\n",
       "      <td>-419</td>\n",
       "      <td>-585</td>\n",
       "      <td>158</td>\n",
       "      <td>-253</td>\n",
       "      <td>49</td>\n",
       "      <td>31</td>\n",
       "      <td>...</td>\n",
       "      <td>218</td>\n",
       "      <td>174</td>\n",
       "      <td>-110</td>\n",
       "      <td>627</td>\n",
       "      <td>170</td>\n",
       "      <td>-50</td>\n",
       "      <td>126</td>\n",
       "      <td>-91</td>\n",
       "      <td>4</td>\n",
       "      <td>ALL</td>\n",
       "    </tr>\n",
       "    <tr>\n",
       "      <th>4</th>\n",
       "      <td>-106</td>\n",
       "      <td>-125</td>\n",
       "      <td>-76</td>\n",
       "      <td>168</td>\n",
       "      <td>-230</td>\n",
       "      <td>-284</td>\n",
       "      <td>4</td>\n",
       "      <td>-122</td>\n",
       "      <td>70</td>\n",
       "      <td>252</td>\n",
       "      <td>...</td>\n",
       "      <td>57</td>\n",
       "      <td>504</td>\n",
       "      <td>-26</td>\n",
       "      <td>250</td>\n",
       "      <td>314</td>\n",
       "      <td>14</td>\n",
       "      <td>56</td>\n",
       "      <td>-25</td>\n",
       "      <td>5</td>\n",
       "      <td>ALL</td>\n",
       "    </tr>\n",
       "  </tbody>\n",
       "</table>\n",
       "<p>5 rows × 7131 columns</p>\n",
       "</div>"
      ],
      "text/plain": [
       "   AFFX-BioB-5_at (endogenous control)  AFFX-BioB-M_at (endogenous control)  \\\n",
       "0                                 -214                                 -153   \n",
       "1                                 -139                                  -73   \n",
       "2                                  -76                                  -49   \n",
       "3                                 -135                                 -114   \n",
       "4                                 -106                                 -125   \n",
       "\n",
       "   AFFX-BioB-3_at (endogenous control)  AFFX-BioC-5_at (endogenous control)  \\\n",
       "0                                  -58                                   88   \n",
       "1                                   -1                                  283   \n",
       "2                                 -307                                  309   \n",
       "3                                  265                                   12   \n",
       "4                                  -76                                  168   \n",
       "\n",
       "   AFFX-BioC-3_at (endogenous control)  AFFX-BioDn-5_at (endogenous control)  \\\n",
       "0                                 -295                                  -558   \n",
       "1                                 -264                                  -400   \n",
       "2                                 -376                                  -650   \n",
       "3                                 -419                                  -585   \n",
       "4                                 -230                                  -284   \n",
       "\n",
       "   AFFX-BioDn-3_at (endogenous control)  AFFX-CreX-5_at (endogenous control)  \\\n",
       "0                                   199                                 -176   \n",
       "1                                  -330                                 -168   \n",
       "2                                    33                                 -367   \n",
       "3                                   158                                 -253   \n",
       "4                                     4                                 -122   \n",
       "\n",
       "   AFFX-CreX-3_at (endogenous control)  AFFX-BioB-5_st (endogenous control)  \\\n",
       "0                                  252                                  206   \n",
       "1                                  101                                   74   \n",
       "2                                  206                                 -215   \n",
       "3                                   49                                   31   \n",
       "4                                   70                                  252   \n",
       "\n",
       "   ...  \\\n",
       "0  ...   \n",
       "1  ...   \n",
       "2  ...   \n",
       "3  ...   \n",
       "4  ...   \n",
       "\n",
       "   GB DEF = Calcium/calmodulin-dependent protein kinase II delta E mRNA; partial cds  \\\n",
       "0                                               -125                                   \n",
       "1                                                -36                                   \n",
       "2                                                 33                                   \n",
       "3                                                218                                   \n",
       "4                                                 57                                   \n",
       "\n",
       "   TUBULIN ALPHA-4 CHAIN  \\\n",
       "0                    389   \n",
       "1                    442   \n",
       "2                    168   \n",
       "3                    174   \n",
       "4                    504   \n",
       "\n",
       "   CYP4B1 Cytochrome P450; subfamily IVB; polypeptide 1  \\\n",
       "0                                                -37      \n",
       "1                                                -17      \n",
       "2                                                 52      \n",
       "3                                               -110      \n",
       "4                                                -26      \n",
       "\n",
       "   PTGER3 Prostaglandin E receptor 3 (subtype EP3) {alternative products}.2  \\\n",
       "0                                                793                          \n",
       "1                                                782                          \n",
       "2                                               1138                          \n",
       "3                                                627                          \n",
       "4                                                250                          \n",
       "\n",
       "   HMG2 High-mobility group (nonhistone chromosomal) protein 2.1  \\\n",
       "0                                                329               \n",
       "1                                                295               \n",
       "2                                                777               \n",
       "3                                                170               \n",
       "4                                                314               \n",
       "\n",
       "   RB1 Retinoblastoma 1 (including osteosarcoma).1  \\\n",
       "0                                               36   \n",
       "1                                               11   \n",
       "2                                               41   \n",
       "3                                              -50   \n",
       "4                                               14   \n",
       "\n",
       "   GB DEF = Glycophorin Sta (type A) exons 3 and 4; partial  \\\n",
       "0                                                191          \n",
       "1                                                 76          \n",
       "2                                                228          \n",
       "3                                                126          \n",
       "4                                                 56          \n",
       "\n",
       "   GB DEF = mRNA (clone 1A7)  patient  cancer type  \n",
       "0                        -37        1          ALL  \n",
       "1                        -14        2          ALL  \n",
       "2                        -41        3          ALL  \n",
       "3                        -91        4          ALL  \n",
       "4                        -25        5          ALL  \n",
       "\n",
       "[5 rows x 7131 columns]"
      ]
     },
     "execution_count": 13,
     "metadata": {},
     "output_type": "execute_result"
    }
   ],
   "source": [
    "df2.head()"
   ]
  },
  {
   "cell_type": "code",
   "execution_count": 17,
   "id": "b2c5aa3a",
   "metadata": {},
   "outputs": [
    {
     "data": {
      "text/plain": [
       "(array([29.,  0.,  0.,  0.,  0.,  0.,  0.,  0.,  0., 11.]),\n",
       " array([0. , 0.1, 0.2, 0.3, 0.4, 0.5, 0.6, 0.7, 0.8, 0.9, 1. ]),\n",
       " <BarContainer object of 10 artists>)"
      ]
     },
     "execution_count": 17,
     "metadata": {},
     "output_type": "execute_result"
    },
    {
     "data": {
      "image/png": "[encoded data removed]",
      "text/plain": [
       "<Figure size 640x480 with 1 Axes>"
      ]
     },
     "metadata": {},
     "output_type": "display_data"
    }
   ],
   "source": [
    "plt.hist(df2[\"cancer type\"])"
   ]
  },
  {
   "cell_type": "code",
   "execution_count": null,
   "id": "0b97640f",
   "metadata": {},
   "outputs": [],
   "source": [
    "# Looking at the histogram, you can see that 29 patients have ALL cancer type and 11 have AML cancer type. \n",
    "# This output data is unbalanced because there are significantly more patients with ALL cancer type than with AML cancer type. \n",
    "# Between the two types, it isn't as evenly distributed. "
   ]
  },
  {
   "cell_type": "code",
   "execution_count": 20,
   "id": "cc03ca2a",
   "metadata": {},
   "outputs": [
    {
     "name": "stderr",
     "output_type": "stream",
     "text": [
      "C:\\Users\\court\\AppData\\Local\\Temp\\ipykernel_22984\\2801104348.py:1: FutureWarning: Dropping of nuisance columns in DataFrame reductions (with 'numeric_only=None') is deprecated; in a future version this will raise TypeError.  Select only valid columns before calling the reduction.\n",
      "  df2.max(axis = 1)\n"
     ]
    },
    {
     "data": {
      "text/plain": [
       "0     31086\n",
       "1     29288\n",
       "2     28056\n",
       "3     31449\n",
       "4     29543\n",
       "5     38467\n",
       "6     41911\n",
       "7     40065\n",
       "8     23602\n",
       "9     28033\n",
       "10    25966\n",
       "11    30546\n",
       "12    30797\n",
       "13    28519\n",
       "14    30256\n",
       "15    27268\n",
       "16    28952\n",
       "17    32645\n",
       "18    33143\n",
       "19    27358\n",
       "20    33548\n",
       "21    39558\n",
       "22    36417\n",
       "23    27983\n",
       "24    32785\n",
       "25    31614\n",
       "26    31261\n",
       "27    29833\n",
       "28    30354\n",
       "29    25055\n",
       "30    28350\n",
       "31    25093\n",
       "32    32946\n",
       "33    28698\n",
       "34    61228\n",
       "35    37164\n",
       "36    32204\n",
       "37    29169\n",
       "38    45815\n",
       "39    29136\n",
       "dtype: int64"
      ]
     },
     "execution_count": 20,
     "metadata": {},
     "output_type": "execute_result"
    }
   ],
   "source": [
    "df2.max(axis = 1)"
   ]
  },
  {
   "cell_type": "code",
   "execution_count": 21,
   "id": "6cc853df",
   "metadata": {},
   "outputs": [
    {
     "name": "stderr",
     "output_type": "stream",
     "text": [
      "C:\\Users\\court\\AppData\\Local\\Temp\\ipykernel_22984\\2869864257.py:1: FutureWarning: Dropping of nuisance columns in DataFrame reductions (with 'numeric_only=None') is deprecated; in a future version this will raise TypeError.  Select only valid columns before calling the reduction.\n",
      "  df2.min(axis = 1)\n"
     ]
    },
    {
     "data": {
      "text/plain": [
       "0    -19826\n",
       "1    -17930\n",
       "2    -27182\n",
       "3    -23396\n",
       "4    -10339\n",
       "5    -21658\n",
       "6    -24024\n",
       "7    -27570\n",
       "8    -25171\n",
       "9    -12500\n",
       "10   -17480\n",
       "11   -15256\n",
       "12   -12854\n",
       "13   -14937\n",
       "14   -13380\n",
       "15   -10492\n",
       "16   -19523\n",
       "17    -8692\n",
       "18   -11572\n",
       "19   -13838\n",
       "20    -7397\n",
       "21   -17179\n",
       "22   -14937\n",
       "23   -17368\n",
       "24   -17377\n",
       "25   -10652\n",
       "26   -20406\n",
       "27   -20376\n",
       "28    -9501\n",
       "29   -17580\n",
       "30   -25491\n",
       "31   -28400\n",
       "32   -27811\n",
       "33   -17310\n",
       "34   -16281\n",
       "35   -27398\n",
       "36   -23673\n",
       "37   -23645\n",
       "38   -21984\n",
       "39   -21296\n",
       "dtype: int64"
      ]
     },
     "execution_count": 21,
     "metadata": {},
     "output_type": "execute_result"
    }
   ],
   "source": [
    "df2.min(axis = 1)"
   ]
  },
  {
   "cell_type": "code",
   "execution_count": 22,
   "id": "95209411",
   "metadata": {},
   "outputs": [
    {
     "name": "stderr",
     "output_type": "stream",
     "text": [
      "C:\\Users\\court\\AppData\\Local\\Temp\\ipykernel_22984\\1851164202.py:1: FutureWarning: Dropping of nuisance columns in DataFrame reductions (with 'numeric_only=None') is deprecated; in a future version this will raise TypeError.  Select only valid columns before calling the reduction.\n",
      "  df2.mean(axis = 1)\n"
     ]
    },
    {
     "data": {
      "text/plain": [
       "0     641.277279\n",
       "1     690.149790\n",
       "2     698.210379\n",
       "3     600.901543\n",
       "4     679.438289\n",
       "5     564.719355\n",
       "6     584.356662\n",
       "7     571.280084\n",
       "8     789.604208\n",
       "9     599.400421\n",
       "10    632.166760\n",
       "11    492.532819\n",
       "12    674.563815\n",
       "13    648.522581\n",
       "14    705.682188\n",
       "15    624.492847\n",
       "16    791.292987\n",
       "17    557.489902\n",
       "18    558.555820\n",
       "19    954.292006\n",
       "20    577.572230\n",
       "21    524.687798\n",
       "22    532.180926\n",
       "23    662.077279\n",
       "24    597.783450\n",
       "25    603.232398\n",
       "26    501.277279\n",
       "27    673.188920\n",
       "28    556.389201\n",
       "29    718.837868\n",
       "30    598.569285\n",
       "31    676.830435\n",
       "32    723.466620\n",
       "33    618.776578\n",
       "34    514.429453\n",
       "35    775.039832\n",
       "36    689.156662\n",
       "37    626.803366\n",
       "38    582.118794\n",
       "39    527.750912\n",
       "dtype: float64"
      ]
     },
     "execution_count": 22,
     "metadata": {},
     "output_type": "execute_result"
    }
   ],
   "source": [
    "df2.mean(axis = 1)"
   ]
  },
  {
   "cell_type": "code",
   "execution_count": null,
   "id": "b3e1d89f",
   "metadata": {},
   "outputs": [],
   "source": [
    "# Looking at the maximum, minimum and mean for any given patient,  the data is significantly futher apart from eachother. \n",
    "# When looking at paitent one, the maxmium data for them is 29,288 while the minimum value is -27,182 and the mean is 690. \n",
    "# Looking at this particular data, this means that for a single patient the min, max and mean are very far apart from eachother. \n",
    "# Looking at another patient, you see the same thing as well, as the minimum and maximum are significantly different from the mean. \n",
    "\n",
    "# Therefore, I beleive that we will need to scale the data in order, for the values to be more in range of eachother. "
   ]
  },
  {
   "cell_type": "code",
   "execution_count": 27,
   "id": "cab6072b",
   "metadata": {},
   "outputs": [],
   "source": [
    "x_test = df.drop([\"cancer type\", \"patient\"], axis = 1)\n",
    "y_test = df[\"cancer type\"]\n",
    "\n",
    "x_train = df2.drop([\"cancer type\", \"patient\"], axis = 1)\n",
    "y_train = df2[\"cancer type\"]"
   ]
  },
  {
   "cell_type": "code",
   "execution_count": 30,
   "id": "1526fdae",
   "metadata": {},
   "outputs": [],
   "source": [
    "from sklearn.preprocessing import StandardScaler\n",
    "\n",
    "scaler = StandardScaler()\n",
    "\n",
    "x_train_scaled = scaler.fit_transform(x_train)\n",
    "x_test_scaled = scaler.fit_transform(x_test) "
   ]
  },
  {
   "cell_type": "code",
   "execution_count": 31,
   "id": "d9469a6d",
   "metadata": {},
   "outputs": [],
   "source": [
    "from sklearn.linear_model import LogisticRegression \n",
    "\n",
    "model = LogisticRegression()\n",
    "model.fit(x_train_scaled, y_train)\n",
    "\n",
    "ypred = model.predict(x_test_scaled)"
   ]
  },
  {
   "cell_type": "code",
   "execution_count": 34,
   "id": "18dccb08",
   "metadata": {},
   "outputs": [
    {
     "name": "stdout",
     "output_type": "stream",
     "text": [
      "1.0\n",
      "Accuracy:  0.75\n",
      "[[18  0]\n",
      " [ 8  6]]\n"
     ]
    }
   ],
   "source": [
    "from sklearn import metrics\n",
    "\n",
    "cm = metrics.confusion_matrix(y_test,ypred)\n",
    "\n",
    "print(model.score(x_train_scaled, y_train))\n",
    "print(\"Accuracy: \", metrics.accuracy_score(y_test, ypred))\n",
    "print(cm)"
   ]
  },
  {
   "cell_type": "code",
   "execution_count": null,
   "id": "3919b6b9",
   "metadata": {},
   "outputs": [],
   "source": [
    "# The score of the model training data is 1 \n",
    "# The accuracy of the training data is .75 \n",
    "# The confusion matrix has the 24 correctly classified values and only 8 misclassified values "
   ]
  },
  {
   "cell_type": "code",
   "execution_count": 35,
   "id": "b5698331",
   "metadata": {},
   "outputs": [],
   "source": [
    "from sklearn.naive_bayes import GaussianNB \n",
    "\n",
    "model2 = GaussianNB()\n",
    "model2.fit(x_train_scaled, y_train)\n",
    "\n",
    "ypred2 = model2.predict(x_test_scaled)"
   ]
  },
  {
   "cell_type": "code",
   "execution_count": 37,
   "id": "6a94facd",
   "metadata": {},
   "outputs": [
    {
     "name": "stdout",
     "output_type": "stream",
     "text": [
      "1.0\n",
      "Accuracy:  0.78125\n",
      "[[18  0]\n",
      " [ 7  7]]\n"
     ]
    }
   ],
   "source": [
    "cm2 = metrics.confusion_matrix(y_test,ypred2)\n",
    "\n",
    "print(model2.score(x_train_scaled, y_train))\n",
    "print(\"Accuracy: \", metrics.accuracy_score(y_test, ypred2))\n",
    "print(cm2)"
   ]
  },
  {
   "cell_type": "code",
   "execution_count": null,
   "id": "60b0b6eb",
   "metadata": {},
   "outputs": [],
   "source": [
    "# The score of the model training data is one. \n",
    "# The accuracy of the model went up as it is now .78125. \n",
    "# The confusion matrix improved as there are now 25 correctly classified values and only 7 misclassified values. "
   ]
  },
  {
   "cell_type": "code",
   "execution_count": null,
   "id": "e400ae91",
   "metadata": {},
   "outputs": [],
   "source": [
    "# The scores are low because we fit transformed the testing and the training data. When we use fit transform a set of data you calculate the mean and varaince of each of the features\n",
    "# present in the data. The transform method is used in all of the features however, if the data isn't normally distributed; using fit transform can have\n",
    "# produce a low accuracy value, which is what happened above. Using pandas might be a better method because we are only using the x training mean and std. instead of for x_test using x test mean\n",
    "# and standard deviation. \n",
    "# The confusion matrix has a type I error which means that there are false positives in the data set. \n",
    "# This is important because a false positive means that the observation was predicted to be positive however it was actually negative. "
   ]
  },
  {
   "cell_type": "code",
   "execution_count": 41,
   "id": "dae52f5b",
   "metadata": {},
   "outputs": [],
   "source": [
    "x2_train_scaled = (x_train - x_train.mean())/x_train.std()"
   ]
  },
  {
   "cell_type": "code",
   "execution_count": 42,
   "id": "f71c546a",
   "metadata": {},
   "outputs": [],
   "source": [
    "x2_test_scaled = (x_test - x_train.mean())/ x_train.std()"
   ]
  },
  {
   "cell_type": "code",
   "execution_count": 44,
   "id": "f6ce1037",
   "metadata": {},
   "outputs": [
    {
     "name": "stdout",
     "output_type": "stream",
     "text": [
      "1.0\n",
      "Accuracy:  0.8125\n",
      "[[18  0]\n",
      " [ 6  8]]\n"
     ]
    }
   ],
   "source": [
    "model3 = LogisticRegression()\n",
    "model3.fit(x2_train_scaled, y_train)\n",
    "\n",
    "ypred3 = model3.predict(x2_test_scaled)\n",
    "\n",
    "cm3 = metrics.confusion_matrix(y_test,ypred3)\n",
    "\n",
    "print(model3.score(x2_train_scaled, y_train))\n",
    "print(\"Accuracy: \", metrics.accuracy_score(y_test, ypred3))\n",
    "print(cm3)"
   ]
  },
  {
   "cell_type": "code",
   "execution_count": 46,
   "id": "250d2148",
   "metadata": {},
   "outputs": [
    {
     "name": "stdout",
     "output_type": "stream",
     "text": [
      "1.0\n",
      "Accuracy:  0.90625\n",
      "[[18  0]\n",
      " [ 6  8]]\n"
     ]
    }
   ],
   "source": [
    "model4 = GaussianNB()\n",
    "model4.fit(x2_train_scaled, y_train)\n",
    "\n",
    "ypred4 = model4.predict(x2_test_scaled)\n",
    "cm4 = metrics.confusion_matrix(y_test,ypred4)\n",
    "\n",
    "print(model3.score(x2_train_scaled, y_train))\n",
    "print(\"Accuracy: \", metrics.accuracy_score(y_test, ypred4))\n",
    "print(cm3)"
   ]
  },
  {
   "cell_type": "code",
   "execution_count": null,
   "id": "98009d29",
   "metadata": {},
   "outputs": [],
   "source": [
    "# Retraining the logisitic regression and Naive Bayes model to the new scaled data, there is a slight improvement with the performance. \n",
    "# The model score number has stayed the same in both cases with a value of one; however, there was an improvement with the accuracy score. \n",
    "# Looking at the accuracy score given by the hand scaled data, there is improvement as the value increased from .78 to .81 and the accuracy change increased in the gaussian \n",
    "#NB from being .91. \n",
    "# The confusion matrix, also improved, and now there are 26 correctly classified values and only 6 misclassified values. "
   ]
  },
  {
   "cell_type": "code",
   "execution_count": 48,
   "id": "ff90b99c",
   "metadata": {},
   "outputs": [
    {
     "name": "stdout",
     "output_type": "stream",
     "text": [
      "30\n",
      "[0.14160178 0.25887229 0.32470765 0.37114269 0.41593652 0.45377108\n",
      " 0.49028899 0.52256446 0.55262452 0.57871474 0.60331123 0.62601503\n",
      " 0.64798886 0.66892235 0.68894065 0.70786795 0.72580368 0.74303738\n",
      " 0.75991715 0.77579443 0.79135625 0.80636007 0.82059574 0.83464022\n",
      " 0.84827473 0.86159723 0.87466785 0.88744908 0.89998391 0.91215863]\n"
     ]
    }
   ],
   "source": [
    "from sklearn.decomposition import PCA \n",
    "\n",
    "pca = PCA(n_components = 30).fit(x2_train_scaled)\n",
    "print(pca.n_components_)\n",
    "print(pca.explained_variance_ratio_.cumsum())"
   ]
  },
  {
   "cell_type": "code",
   "execution_count": 50,
   "id": "24c102b3",
   "metadata": {},
   "outputs": [
    {
     "name": "stdout",
     "output_type": "stream",
     "text": [
      "40\n",
      "[0.14160178 0.25887229 0.32470765 0.37114269 0.41593652 0.45377108\n",
      " 0.49028899 0.52256446 0.55262452 0.57871474 0.60331123 0.62601503\n",
      " 0.64798886 0.66892235 0.68894065 0.70786795 0.72580368 0.74303738\n",
      " 0.75991715 0.77579443 0.79135625 0.80636007 0.82059574 0.83464022\n",
      " 0.84827473 0.86159723 0.87466785 0.88744908 0.89998391 0.91215863\n",
      " 0.92427847 0.93560532 0.94637448 0.9567996  0.9663936  0.97566035\n",
      " 0.9842495  0.99229838 1.         1.        ]\n"
     ]
    }
   ],
   "source": [
    "pca = PCA(n_components = 40).fit(x2_train_scaled)\n",
    "print(pca.n_components_)\n",
    "print(pca.explained_variance_ratio_.cumsum())"
   ]
  },
  {
   "cell_type": "code",
   "execution_count": 53,
   "id": "609ff05c",
   "metadata": {},
   "outputs": [
    {
     "name": "stdout",
     "output_type": "stream",
     "text": [
      "20\n",
      "[0.14160178 0.25887229 0.32470765 0.37114258 0.41593629 0.45377037\n",
      " 0.49028725 0.52256218 0.55262122 0.57869389 0.60328289 0.62596606\n",
      " 0.64791847 0.66881441 0.68872036 0.70761081 0.72546886 0.74256264\n",
      " 0.75922356 0.77498448]\n"
     ]
    }
   ],
   "source": [
    "pca = PCA(n_components = 20).fit(x2_train_scaled)\n",
    "print(pca.n_components_)\n",
    "print(pca.explained_variance_ratio_.cumsum())"
   ]
  },
  {
   "cell_type": "code",
   "execution_count": null,
   "id": "1c1d0bff",
   "metadata": {},
   "outputs": [],
   "source": [
    "# As you increase the number of n_components, the cumsum() value increases the number of values it displays. \n",
    "# The values don't change, however you are giving more information as there is an increase in values that are displayed \n",
    "# You would need 30 components to get a 90% variance. "
   ]
  },
  {
   "cell_type": "code",
   "execution_count": 54,
   "id": "ade02834",
   "metadata": {},
   "outputs": [],
   "source": [
    "pca = PCA(n_components = 30).fit(x2_train_scaled)\n",
    "x_train_scaled_pca = pca.transform(x2_train_scaled) \n",
    "x_test_scaled_pca = pca.transform(x2_test_scaled)"
   ]
  },
  {
   "cell_type": "code",
   "execution_count": 56,
   "id": "b3babe02",
   "metadata": {},
   "outputs": [
    {
     "name": "stdout",
     "output_type": "stream",
     "text": [
      "1.0\n",
      "Accuracy:  0.78125\n",
      "[[18  0]\n",
      " [ 7  7]]\n"
     ]
    }
   ],
   "source": [
    "model5 = LogisticRegression()\n",
    "model5.fit(x_train_scaled_pca, y_train)\n",
    "\n",
    "ypred5 = model5.predict(x_test_scaled_pca)\n",
    "\n",
    "cm5 = metrics.confusion_matrix(y_test,ypred5)\n",
    "\n",
    "print(model5.score(x_train_scaled_pca, y_train))\n",
    "print(\"Accuracy: \", metrics.accuracy_score(y_test, ypred5))\n",
    "print(cm5)"
   ]
  },
  {
   "cell_type": "code",
   "execution_count": 55,
   "id": "8cb3d208",
   "metadata": {},
   "outputs": [
    {
     "name": "stdout",
     "output_type": "stream",
     "text": [
      "0.975\n",
      "Accuracy:  0.6875\n",
      "[[18  0]\n",
      " [10  4]]\n"
     ]
    }
   ],
   "source": [
    "model6 = GaussianNB()\n",
    "model6.fit(x_train_scaled_pca, y_train)\n",
    "\n",
    "ypred6 = model6.predict(x_test_scaled_pca)\n",
    "cm6 = metrics.confusion_matrix(y_test,ypred6)\n",
    "\n",
    "print(model6.score(x_train_scaled_pca, y_train))\n",
    "print(\"Accuracy: \", metrics.accuracy_score(y_test, ypred6))\n",
    "print(cm6)"
   ]
  },
  {
   "cell_type": "code",
   "execution_count": null,
   "id": "3202a470",
   "metadata": {},
   "outputs": [],
   "source": [
    "# From model one, the classification matricies and accuracies went down. This could mean that using PCA isn't appropriate for this set of data. "
   ]
  },
  {
   "cell_type": "code",
   "execution_count": null,
   "id": "d2cea92b",
   "metadata": {},
   "outputs": [],
   "source": [
    "# I don't think PCA is appropriate here because, looking at the accuracy score and confidential matrix, we saw a decrease in performance\n",
    "# for both linear regression and gaussian nb. In linear regression, the accuracy score went back down to .78 and there are now only 25 correctly idenitfied values with 7 misclassified values. \n",
    "# When looking at Gaussian NB, there is also no improvement as the model score went down to .975, the accuracy score went futher down to .6875 and the were only 22 correctly \n",
    "# classified values. "
   ]
  },
  {
   "cell_type": "code",
   "execution_count": 58,
   "id": "973f91fd",
   "metadata": {},
   "outputs": [],
   "source": [
    "from imblearn.over_sampling import SMOTE\n",
    "\n",
    "sm = SMOTE()\n",
    "\n",
    "x_bal, y_bal = sm.fit_resample(x2_train_scaled,y_train)\n",
    "x2_bal, y2_bal = sm.fit_resample(x2_test_scaled, y_test)"
   ]
  },
  {
   "cell_type": "code",
   "execution_count": 60,
   "id": "33475625",
   "metadata": {},
   "outputs": [
    {
     "name": "stderr",
     "output_type": "stream",
     "text": [
      "C:\\Users\\court\\Downloads\\python\\lib\\site-packages\\seaborn\\_decorators.py:36: FutureWarning: Pass the following variable as a keyword arg: x. From version 0.12, the only valid positional argument will be `data`, and passing other arguments without an explicit keyword will result in an error or misinterpretation.\n",
      "  warnings.warn(\n"
     ]
    },
    {
     "data": {
      "text/plain": [
       "<AxesSubplot:xlabel='cancer type', ylabel='count'>"
      ]
     },
     "execution_count": 60,
     "metadata": {},
     "output_type": "execute_result"
    },
    {
     "data": {
      "image/png": "[encoded data removed]",
      "text/plain": [
       "<Figure size 640x480 with 1 Axes>"
      ]
     },
     "metadata": {},
     "output_type": "display_data"
    }
   ],
   "source": [
    "sns.countplot(y_bal)\n",
    "# For y train data "
   ]
  },
  {
   "cell_type": "code",
   "execution_count": 59,
   "id": "006954fb",
   "metadata": {},
   "outputs": [
    {
     "name": "stderr",
     "output_type": "stream",
     "text": [
      "C:\\Users\\court\\Downloads\\python\\lib\\site-packages\\seaborn\\_decorators.py:36: FutureWarning: Pass the following variable as a keyword arg: x. From version 0.12, the only valid positional argument will be `data`, and passing other arguments without an explicit keyword will result in an error or misinterpretation.\n",
      "  warnings.warn(\n"
     ]
    },
    {
     "data": {
      "text/plain": [
       "<AxesSubplot:xlabel='cancer type', ylabel='count'>"
      ]
     },
     "execution_count": 59,
     "metadata": {},
     "output_type": "execute_result"
    },
    {
     "data": {
      "image/png": "[encoded data removed]",
      "text/plain": [
       "<Figure size 640x480 with 1 Axes>"
      ]
     },
     "metadata": {},
     "output_type": "display_data"
    }
   ],
   "source": [
    "sns.countplot(y2_bal)\n",
    "# For y train data "
   ]
  },
  {
   "cell_type": "code",
   "execution_count": null,
   "id": "e5a1877d",
   "metadata": {},
   "outputs": [],
   "source": [
    "# The distribution of the outputs in the new y array are equal. This means that the cancer types are both set to a value of 17.5 \n",
    "# However realisticly, it isn't an accurate output because a patient can't be classified as only being half of one cancer type "
   ]
  },
  {
   "cell_type": "code",
   "execution_count": 64,
   "id": "018d00ca",
   "metadata": {},
   "outputs": [
    {
     "name": "stdout",
     "output_type": "stream",
     "text": [
      "1.0\n",
      "Accuracy:  0.8611111111111112\n",
      "[[18  0]\n",
      " [ 5 13]]\n"
     ]
    }
   ],
   "source": [
    "model8 = LogisticRegression()\n",
    "model8.fit(x_bal, y_bal)\n",
    "\n",
    "ypred8 = model8.predict(x2_bal)\n",
    "\n",
    "cm8 = metrics.confusion_matrix(y2_bal,ypred8)\n",
    "\n",
    "print(model8.score(x_bal, y_bal))\n",
    "print(\"Accuracy: \", metrics.accuracy_score(y2_bal, ypred8))\n",
    "print(cm8)"
   ]
  },
  {
   "cell_type": "code",
   "execution_count": 62,
   "id": "48288eb3",
   "metadata": {},
   "outputs": [
    {
     "name": "stdout",
     "output_type": "stream",
     "text": [
      "1.0\n",
      "Accuracy:  0.8888888888888888\n",
      "[[16  2]\n",
      " [ 2 16]]\n"
     ]
    }
   ],
   "source": [
    "model7 = GaussianNB()\n",
    "model7.fit(x_bal, y_bal)\n",
    "\n",
    "ypred7 = model7.predict(x2_bal)\n",
    "cm7 = metrics.confusion_matrix(y2_bal,ypred7)\n",
    "\n",
    "print(model7.score(x_bal, y_bal))\n",
    "print(\"Accuracy: \", metrics.accuracy_score(y2_bal, ypred7))\n",
    "print(cm7)"
   ]
  },
  {
   "cell_type": "code",
   "execution_count": null,
   "id": "e759e66f",
   "metadata": {},
   "outputs": [],
   "source": [
    "# Looking at the new model compared to the model conducted in Part 1. There was an improvement from the past\n",
    "# PCA analaysis, with an increase in the accuracy for Logisitic Regression and Gaussian. However, looking at the new balanced data\n",
    "# compared to the very first regression made in part one. \n",
    "# In part one, there was an accuracy level of .75, with only 24 correctly classified values. There was 8 misclassifications. \n",
    "# However with the new balanced y equations, there was an increase in the accuracy for both logisitc regression and gaussian NB\n",
    "# The y_balanced gaussian NB had an increase in accuarcy with a new value of .88, with an increase in correctly classified values with 32 correctly classified values and only 4 misclassified features. \n",
    "# Also with the logistic regression there was an improvement with the accuracy and cm matrix as well.\n",
    "# With the logistic regressoin there was an increase in the accuracy score, with a value of .861. The confidence matrix was also improved with 31 correctly \n",
    "# classified values and only 5 misclassified values. "
   ]
  },
  {
   "cell_type": "code",
   "execution_count": null,
   "id": "c840d9ba",
   "metadata": {},
   "outputs": [],
   "source": [
    "# Summary\n",
    "\n",
    "# If I was trying to use this data and build a model for new patients the first thing I would do wold be scaling the data. \n",
    "# Scaling the data is important in this case, because the data is unbalanced. When the data is unbalanced, and you try to perform models \n",
    "# and create predictions. Having unbalanced data is bad because the data then becomes harder to gain any information and to make any predictions because it is harder to \n",
    "# see the minority data. Another reason it would be important to scale the data is because it provides a higher accuracy model and will provide a higher detection rate. \n",
    "# To scale the data, one scaler technique I might use, that was beneficial in this lab was to use the pandas scaler to first scale the data. The reason why I am using this \n",
    "# scaler is because it had the highest accuracy and cm results for both logistic regression and Gaussian NB. I wouldn't use PCA because it wasn't beneficial in improving the accuaracy\n",
    "# score, but if I didn't use pandas standard scaler, I would use the SMOTE scaler, however in a realsitsic setting, if the y vlaue is an odd number, the SMOTE could provide some inplaussible results like including decimals. \n",
    "# Lastly, when choosing between Gaussian NB and Logisitic Regression, I would use Gaussian NB because it provided a greater accuracy value when tested. "
   ]
  },
  {
   "cell_type": "code",
   "execution_count": null,
   "id": "35fb9b2b",
   "metadata": {},
   "outputs": [],
   "source": []
  },
  {
   "cell_type": "code",
   "execution_count": null,
   "id": "f99550f1",
   "metadata": {},
   "outputs": [],
   "source": []
  },
  {
   "cell_type": "code",
   "execution_count": null,
   "id": "27a7c4c9",
   "metadata": {},
   "outputs": [],
   "source": []
  },
  {
   "cell_type": "code",
   "execution_count": null,
   "id": "397e4e83",
   "metadata": {},
   "outputs": [],
   "source": []
  }
 ],
 "metadata": {
  "kernelspec": {
   "display_name": "Python 3 (ipykernel)",
   "language": "python",
   "name": "python3"
  },
  "language_info": {
   "codemirror_mode": {
    "name": "ipython",
    "version": 3
   },
   "file_extension": ".py",
   "mimetype": "text/x-python",
   "name": "python",
   "nbconvert_exporter": "python",
   "pygments_lexer": "ipython3",
   "version": "3.9.13"
  }
 },
 "nbformat": 4,
 "nbformat_minor": 5
}
